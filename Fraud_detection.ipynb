{
 "cells": [
  {
   "cell_type": "code",
   "execution_count": 1,
   "id": "d8f0a6f9",
   "metadata": {},
   "outputs": [],
   "source": [
    "import numpy as np\n",
    "import pandas as pd\n",
    "from sklearn.model_selection import train_test_split\n",
    "from sklearn.linear_model import LogisticRegression\n",
    "from sklearn.metrics import accuracy_score\n",
    "from sklearn.preprocessing import StandardScaler"
   ]
  },
  {
   "cell_type": "code",
   "execution_count": 2,
   "id": "0e71ae30",
   "metadata": {},
   "outputs": [],
   "source": [
    "data_set=pd.read_csv(r'C:\\Users\\snehi\\Desktop\\ML_Project\\DATA\\transaction_dataset.csv')"
   ]
  },
  {
   "cell_type": "code",
   "execution_count": 3,
   "id": "9edfda36",
   "metadata": {},
   "outputs": [
    {
     "data": {
      "text/html": [
       "<div>\n",
       "<style scoped>\n",
       "    .dataframe tbody tr th:only-of-type {\n",
       "        vertical-align: middle;\n",
       "    }\n",
       "\n",
       "    .dataframe tbody tr th {\n",
       "        vertical-align: top;\n",
       "    }\n",
       "\n",
       "    .dataframe thead th {\n",
       "        text-align: right;\n",
       "    }\n",
       "</style>\n",
       "<table border=\"1\" class=\"dataframe\">\n",
       "  <thead>\n",
       "    <tr style=\"text-align: right;\">\n",
       "      <th></th>\n",
       "      <th>Unnamed: 0</th>\n",
       "      <th>Index</th>\n",
       "      <th>Address</th>\n",
       "      <th>FLAG</th>\n",
       "      <th>Avg min between sent tnx</th>\n",
       "      <th>Avg min between received tnx</th>\n",
       "      <th>Time Diff between first and last (Mins)</th>\n",
       "      <th>Sent tnx</th>\n",
       "      <th>Received Tnx</th>\n",
       "      <th>Number of Created Contracts</th>\n",
       "      <th>...</th>\n",
       "      <th>ERC20 min val sent</th>\n",
       "      <th>ERC20 max val sent</th>\n",
       "      <th>ERC20 avg val sent</th>\n",
       "      <th>ERC20 min val sent contract</th>\n",
       "      <th>ERC20 max val sent contract</th>\n",
       "      <th>ERC20 avg val sent contract</th>\n",
       "      <th>ERC20 uniq sent token name</th>\n",
       "      <th>ERC20 uniq rec token name</th>\n",
       "      <th>ERC20 most sent token type</th>\n",
       "      <th>ERC20_most_rec_token_type</th>\n",
       "    </tr>\n",
       "  </thead>\n",
       "  <tbody>\n",
       "    <tr>\n",
       "      <th>0</th>\n",
       "      <td>0</td>\n",
       "      <td>1</td>\n",
       "      <td>0x00009277775ac7d0d59eaad8fee3d10ac6c805e8</td>\n",
       "      <td>0</td>\n",
       "      <td>844.26</td>\n",
       "      <td>1093.71</td>\n",
       "      <td>704785.63</td>\n",
       "      <td>721</td>\n",
       "      <td>89</td>\n",
       "      <td>0</td>\n",
       "      <td>...</td>\n",
       "      <td>0.000000</td>\n",
       "      <td>1.683100e+07</td>\n",
       "      <td>271779.920000</td>\n",
       "      <td>0.0</td>\n",
       "      <td>0.0</td>\n",
       "      <td>0.0</td>\n",
       "      <td>39.0</td>\n",
       "      <td>57.0</td>\n",
       "      <td>Cofoundit</td>\n",
       "      <td>Numeraire</td>\n",
       "    </tr>\n",
       "    <tr>\n",
       "      <th>1</th>\n",
       "      <td>1</td>\n",
       "      <td>2</td>\n",
       "      <td>0x0002b44ddb1476db43c868bd494422ee4c136fed</td>\n",
       "      <td>0</td>\n",
       "      <td>12709.07</td>\n",
       "      <td>2958.44</td>\n",
       "      <td>1218216.73</td>\n",
       "      <td>94</td>\n",
       "      <td>8</td>\n",
       "      <td>0</td>\n",
       "      <td>...</td>\n",
       "      <td>2.260809</td>\n",
       "      <td>2.260809e+00</td>\n",
       "      <td>2.260809</td>\n",
       "      <td>0.0</td>\n",
       "      <td>0.0</td>\n",
       "      <td>0.0</td>\n",
       "      <td>1.0</td>\n",
       "      <td>7.0</td>\n",
       "      <td>Livepeer Token</td>\n",
       "      <td>Livepeer Token</td>\n",
       "    </tr>\n",
       "    <tr>\n",
       "      <th>2</th>\n",
       "      <td>2</td>\n",
       "      <td>3</td>\n",
       "      <td>0x0002bda54cb772d040f779e88eb453cac0daa244</td>\n",
       "      <td>0</td>\n",
       "      <td>246194.54</td>\n",
       "      <td>2434.02</td>\n",
       "      <td>516729.30</td>\n",
       "      <td>2</td>\n",
       "      <td>10</td>\n",
       "      <td>0</td>\n",
       "      <td>...</td>\n",
       "      <td>0.000000</td>\n",
       "      <td>0.000000e+00</td>\n",
       "      <td>0.000000</td>\n",
       "      <td>0.0</td>\n",
       "      <td>0.0</td>\n",
       "      <td>0.0</td>\n",
       "      <td>0.0</td>\n",
       "      <td>8.0</td>\n",
       "      <td>None</td>\n",
       "      <td>XENON</td>\n",
       "    </tr>\n",
       "    <tr>\n",
       "      <th>3</th>\n",
       "      <td>3</td>\n",
       "      <td>4</td>\n",
       "      <td>0x00038e6ba2fd5c09aedb96697c8d7b8fa6632e5e</td>\n",
       "      <td>0</td>\n",
       "      <td>10219.60</td>\n",
       "      <td>15785.09</td>\n",
       "      <td>397555.90</td>\n",
       "      <td>25</td>\n",
       "      <td>9</td>\n",
       "      <td>0</td>\n",
       "      <td>...</td>\n",
       "      <td>100.000000</td>\n",
       "      <td>9.029231e+03</td>\n",
       "      <td>3804.076893</td>\n",
       "      <td>0.0</td>\n",
       "      <td>0.0</td>\n",
       "      <td>0.0</td>\n",
       "      <td>1.0</td>\n",
       "      <td>11.0</td>\n",
       "      <td>Raiden</td>\n",
       "      <td>XENON</td>\n",
       "    </tr>\n",
       "    <tr>\n",
       "      <th>4</th>\n",
       "      <td>4</td>\n",
       "      <td>5</td>\n",
       "      <td>0x00062d1dd1afb6fb02540ddad9cdebfe568e0d89</td>\n",
       "      <td>0</td>\n",
       "      <td>36.61</td>\n",
       "      <td>10707.77</td>\n",
       "      <td>382472.42</td>\n",
       "      <td>4598</td>\n",
       "      <td>20</td>\n",
       "      <td>1</td>\n",
       "      <td>...</td>\n",
       "      <td>0.000000</td>\n",
       "      <td>4.500000e+04</td>\n",
       "      <td>13726.659220</td>\n",
       "      <td>0.0</td>\n",
       "      <td>0.0</td>\n",
       "      <td>0.0</td>\n",
       "      <td>6.0</td>\n",
       "      <td>27.0</td>\n",
       "      <td>StatusNetwork</td>\n",
       "      <td>EOS</td>\n",
       "    </tr>\n",
       "    <tr>\n",
       "      <th>...</th>\n",
       "      <td>...</td>\n",
       "      <td>...</td>\n",
       "      <td>...</td>\n",
       "      <td>...</td>\n",
       "      <td>...</td>\n",
       "      <td>...</td>\n",
       "      <td>...</td>\n",
       "      <td>...</td>\n",
       "      <td>...</td>\n",
       "      <td>...</td>\n",
       "      <td>...</td>\n",
       "      <td>...</td>\n",
       "      <td>...</td>\n",
       "      <td>...</td>\n",
       "      <td>...</td>\n",
       "      <td>...</td>\n",
       "      <td>...</td>\n",
       "      <td>...</td>\n",
       "      <td>...</td>\n",
       "      <td>...</td>\n",
       "      <td>...</td>\n",
       "    </tr>\n",
       "    <tr>\n",
       "      <th>9836</th>\n",
       "      <td>9836</td>\n",
       "      <td>2175</td>\n",
       "      <td>0xff481ca14e6c16b79fc8ab299b4d2387ec8ecdd2</td>\n",
       "      <td>1</td>\n",
       "      <td>12635.10</td>\n",
       "      <td>631.39</td>\n",
       "      <td>58748.48</td>\n",
       "      <td>4</td>\n",
       "      <td>13</td>\n",
       "      <td>0</td>\n",
       "      <td>...</td>\n",
       "      <td>0.000000</td>\n",
       "      <td>0.000000e+00</td>\n",
       "      <td>0.000000</td>\n",
       "      <td>0.0</td>\n",
       "      <td>0.0</td>\n",
       "      <td>0.0</td>\n",
       "      <td>0.0</td>\n",
       "      <td>2.0</td>\n",
       "      <td></td>\n",
       "      <td>GSENetwork</td>\n",
       "    </tr>\n",
       "    <tr>\n",
       "      <th>9837</th>\n",
       "      <td>9837</td>\n",
       "      <td>2176</td>\n",
       "      <td>0xff718805bb9199ebf024ab6acd333e603ad77c85</td>\n",
       "      <td>1</td>\n",
       "      <td>0.00</td>\n",
       "      <td>0.00</td>\n",
       "      <td>0.00</td>\n",
       "      <td>0</td>\n",
       "      <td>0</td>\n",
       "      <td>0</td>\n",
       "      <td>...</td>\n",
       "      <td>0.000000</td>\n",
       "      <td>0.000000e+00</td>\n",
       "      <td>0.000000</td>\n",
       "      <td>0.0</td>\n",
       "      <td>0.0</td>\n",
       "      <td>0.0</td>\n",
       "      <td>0.0</td>\n",
       "      <td>1.0</td>\n",
       "      <td></td>\n",
       "      <td>Blockwell say NOTSAFU</td>\n",
       "    </tr>\n",
       "    <tr>\n",
       "      <th>9838</th>\n",
       "      <td>9838</td>\n",
       "      <td>2177</td>\n",
       "      <td>0xff8e6af02d41a576a0c82f7835535193e1a6bccc</td>\n",
       "      <td>1</td>\n",
       "      <td>2499.44</td>\n",
       "      <td>2189.29</td>\n",
       "      <td>261601.88</td>\n",
       "      <td>67</td>\n",
       "      <td>43</td>\n",
       "      <td>0</td>\n",
       "      <td>...</td>\n",
       "      <td>0.000000</td>\n",
       "      <td>0.000000e+00</td>\n",
       "      <td>0.000000</td>\n",
       "      <td>0.0</td>\n",
       "      <td>0.0</td>\n",
       "      <td>0.0</td>\n",
       "      <td>0.0</td>\n",
       "      <td>5.0</td>\n",
       "      <td></td>\n",
       "      <td>Free BOB Tokens - BobsRepair.com</td>\n",
       "    </tr>\n",
       "    <tr>\n",
       "      <th>9839</th>\n",
       "      <td>9839</td>\n",
       "      <td>2178</td>\n",
       "      <td>0xffde23396d57e10abf58bd929bb1e856c7718218</td>\n",
       "      <td>1</td>\n",
       "      <td>0.00</td>\n",
       "      <td>0.00</td>\n",
       "      <td>0.00</td>\n",
       "      <td>0</td>\n",
       "      <td>1</td>\n",
       "      <td>0</td>\n",
       "      <td>...</td>\n",
       "      <td>NaN</td>\n",
       "      <td>NaN</td>\n",
       "      <td>NaN</td>\n",
       "      <td>NaN</td>\n",
       "      <td>NaN</td>\n",
       "      <td>NaN</td>\n",
       "      <td>NaN</td>\n",
       "      <td>NaN</td>\n",
       "      <td>NaN</td>\n",
       "      <td>NaN</td>\n",
       "    </tr>\n",
       "    <tr>\n",
       "      <th>9840</th>\n",
       "      <td>9840</td>\n",
       "      <td>2179</td>\n",
       "      <td>0xd624d046edbdef805c5e4140dce5fb5ec1b39a3c</td>\n",
       "      <td>1</td>\n",
       "      <td>37242.70</td>\n",
       "      <td>149.56</td>\n",
       "      <td>670817.33</td>\n",
       "      <td>18</td>\n",
       "      <td>3</td>\n",
       "      <td>0</td>\n",
       "      <td>...</td>\n",
       "      <td>0.000000</td>\n",
       "      <td>0.000000e+00</td>\n",
       "      <td>0.000000</td>\n",
       "      <td>0.0</td>\n",
       "      <td>0.0</td>\n",
       "      <td>0.0</td>\n",
       "      <td>0.0</td>\n",
       "      <td>42.0</td>\n",
       "      <td></td>\n",
       "      <td>INS Promo1</td>\n",
       "    </tr>\n",
       "  </tbody>\n",
       "</table>\n",
       "<p>9841 rows × 51 columns</p>\n",
       "</div>"
      ],
      "text/plain": [
       "      Unnamed: 0  Index                                     Address  FLAG  \\\n",
       "0              0      1  0x00009277775ac7d0d59eaad8fee3d10ac6c805e8     0   \n",
       "1              1      2  0x0002b44ddb1476db43c868bd494422ee4c136fed     0   \n",
       "2              2      3  0x0002bda54cb772d040f779e88eb453cac0daa244     0   \n",
       "3              3      4  0x00038e6ba2fd5c09aedb96697c8d7b8fa6632e5e     0   \n",
       "4              4      5  0x00062d1dd1afb6fb02540ddad9cdebfe568e0d89     0   \n",
       "...          ...    ...                                         ...   ...   \n",
       "9836        9836   2175  0xff481ca14e6c16b79fc8ab299b4d2387ec8ecdd2     1   \n",
       "9837        9837   2176  0xff718805bb9199ebf024ab6acd333e603ad77c85     1   \n",
       "9838        9838   2177  0xff8e6af02d41a576a0c82f7835535193e1a6bccc     1   \n",
       "9839        9839   2178  0xffde23396d57e10abf58bd929bb1e856c7718218     1   \n",
       "9840        9840   2179  0xd624d046edbdef805c5e4140dce5fb5ec1b39a3c     1   \n",
       "\n",
       "      Avg min between sent tnx  Avg min between received tnx  \\\n",
       "0                       844.26                       1093.71   \n",
       "1                     12709.07                       2958.44   \n",
       "2                    246194.54                       2434.02   \n",
       "3                     10219.60                      15785.09   \n",
       "4                        36.61                      10707.77   \n",
       "...                        ...                           ...   \n",
       "9836                  12635.10                        631.39   \n",
       "9837                      0.00                          0.00   \n",
       "9838                   2499.44                       2189.29   \n",
       "9839                      0.00                          0.00   \n",
       "9840                  37242.70                        149.56   \n",
       "\n",
       "      Time Diff between first and last (Mins)  Sent tnx  Received Tnx  \\\n",
       "0                                   704785.63       721            89   \n",
       "1                                  1218216.73        94             8   \n",
       "2                                   516729.30         2            10   \n",
       "3                                   397555.90        25             9   \n",
       "4                                   382472.42      4598            20   \n",
       "...                                       ...       ...           ...   \n",
       "9836                                 58748.48         4            13   \n",
       "9837                                     0.00         0             0   \n",
       "9838                                261601.88        67            43   \n",
       "9839                                     0.00         0             1   \n",
       "9840                                670817.33        18             3   \n",
       "\n",
       "      Number of Created Contracts  ...   ERC20 min val sent  \\\n",
       "0                               0  ...             0.000000   \n",
       "1                               0  ...             2.260809   \n",
       "2                               0  ...             0.000000   \n",
       "3                               0  ...           100.000000   \n",
       "4                               1  ...             0.000000   \n",
       "...                           ...  ...                  ...   \n",
       "9836                            0  ...             0.000000   \n",
       "9837                            0  ...             0.000000   \n",
       "9838                            0  ...             0.000000   \n",
       "9839                            0  ...                  NaN   \n",
       "9840                            0  ...             0.000000   \n",
       "\n",
       "       ERC20 max val sent   ERC20 avg val sent   ERC20 min val sent contract  \\\n",
       "0            1.683100e+07        271779.920000                           0.0   \n",
       "1            2.260809e+00             2.260809                           0.0   \n",
       "2            0.000000e+00             0.000000                           0.0   \n",
       "3            9.029231e+03          3804.076893                           0.0   \n",
       "4            4.500000e+04         13726.659220                           0.0   \n",
       "...                   ...                  ...                           ...   \n",
       "9836         0.000000e+00             0.000000                           0.0   \n",
       "9837         0.000000e+00             0.000000                           0.0   \n",
       "9838         0.000000e+00             0.000000                           0.0   \n",
       "9839                  NaN                  NaN                           NaN   \n",
       "9840         0.000000e+00             0.000000                           0.0   \n",
       "\n",
       "       ERC20 max val sent contract   ERC20 avg val sent contract  \\\n",
       "0                              0.0                           0.0   \n",
       "1                              0.0                           0.0   \n",
       "2                              0.0                           0.0   \n",
       "3                              0.0                           0.0   \n",
       "4                              0.0                           0.0   \n",
       "...                            ...                           ...   \n",
       "9836                           0.0                           0.0   \n",
       "9837                           0.0                           0.0   \n",
       "9838                           0.0                           0.0   \n",
       "9839                           NaN                           NaN   \n",
       "9840                           0.0                           0.0   \n",
       "\n",
       "       ERC20 uniq sent token name   ERC20 uniq rec token name  \\\n",
       "0                            39.0                        57.0   \n",
       "1                             1.0                         7.0   \n",
       "2                             0.0                         8.0   \n",
       "3                             1.0                        11.0   \n",
       "4                             6.0                        27.0   \n",
       "...                           ...                         ...   \n",
       "9836                          0.0                         2.0   \n",
       "9837                          0.0                         1.0   \n",
       "9838                          0.0                         5.0   \n",
       "9839                          NaN                         NaN   \n",
       "9840                          0.0                        42.0   \n",
       "\n",
       "       ERC20 most sent token type         ERC20_most_rec_token_type  \n",
       "0                       Cofoundit                         Numeraire  \n",
       "1                  Livepeer Token                    Livepeer Token  \n",
       "2                            None                             XENON  \n",
       "3                          Raiden                             XENON  \n",
       "4                   StatusNetwork                               EOS  \n",
       "...                           ...                               ...  \n",
       "9836                                                     GSENetwork  \n",
       "9837                                          Blockwell say NOTSAFU  \n",
       "9838                               Free BOB Tokens - BobsRepair.com  \n",
       "9839                          NaN                               NaN  \n",
       "9840                                                     INS Promo1  \n",
       "\n",
       "[9841 rows x 51 columns]"
      ]
     },
     "execution_count": 3,
     "metadata": {},
     "output_type": "execute_result"
    }
   ],
   "source": [
    "data_set\n"
   ]
  },
  {
   "cell_type": "code",
   "execution_count": 4,
   "id": "f1f4348b",
   "metadata": {},
   "outputs": [],
   "source": [
    "data_set=data_set.select_dtypes(exclude=['object'])"
   ]
  },
  {
   "cell_type": "code",
   "execution_count": 5,
   "id": "0f9e3236",
   "metadata": {},
   "outputs": [
    {
     "data": {
      "text/plain": [
       "(9841, 48)"
      ]
     },
     "execution_count": 5,
     "metadata": {},
     "output_type": "execute_result"
    }
   ],
   "source": [
    "data_set.shape"
   ]
  },
  {
   "cell_type": "code",
   "execution_count": 6,
   "id": "5f82a188",
   "metadata": {},
   "outputs": [],
   "source": [
    "legit = data_set[data_set.FLAG == 0]\n",
    "fraud = data_set[data_set.FLAG == 1]"
   ]
  },
  {
   "cell_type": "code",
   "execution_count": 7,
   "id": "ff339d64",
   "metadata": {},
   "outputs": [
    {
     "data": {
      "text/plain": [
       "(7662, 48)"
      ]
     },
     "execution_count": 7,
     "metadata": {},
     "output_type": "execute_result"
    }
   ],
   "source": [
    "legit.shape"
   ]
  },
  {
   "cell_type": "code",
   "execution_count": 8,
   "id": "10be1cfa",
   "metadata": {},
   "outputs": [
    {
     "data": {
      "text/plain": [
       "(2179, 48)"
      ]
     },
     "execution_count": 8,
     "metadata": {},
     "output_type": "execute_result"
    }
   ],
   "source": [
    "fraud.shape"
   ]
  },
  {
   "cell_type": "code",
   "execution_count": 9,
   "id": "41dc43f1",
   "metadata": {},
   "outputs": [
    {
     "data": {
      "text/plain": [
       "Unnamed: 0                                              0\n",
       "Index                                                   0\n",
       "FLAG                                                    0\n",
       "Avg min between sent tnx                                0\n",
       "Avg min between received tnx                            0\n",
       "Time Diff between first and last (Mins)                 0\n",
       "Sent tnx                                                0\n",
       "Received Tnx                                            0\n",
       "Number of Created Contracts                             0\n",
       "Unique Received From Addresses                          0\n",
       "Unique Sent To Addresses                                0\n",
       "min value received                                      0\n",
       "max value received                                      0\n",
       "avg val received                                        0\n",
       "min val sent                                            0\n",
       "max val sent                                            0\n",
       "avg val sent                                            0\n",
       "min value sent to contract                              0\n",
       "max val sent to contract                                0\n",
       "avg value sent to contract                              0\n",
       "total transactions (including tnx to create contract    0\n",
       "total Ether sent                                        0\n",
       "total ether received                                    0\n",
       "total ether sent contracts                              0\n",
       "total ether balance                                     0\n",
       " Total ERC20 tnxs                                       0\n",
       " ERC20 total Ether received                             0\n",
       " ERC20 total ether sent                                 0\n",
       " ERC20 total Ether sent contract                        0\n",
       " ERC20 uniq sent addr                                   0\n",
       " ERC20 uniq rec addr                                    0\n",
       " ERC20 uniq sent addr.1                                 0\n",
       " ERC20 uniq rec contract addr                           0\n",
       " ERC20 avg time between sent tnx                        0\n",
       " ERC20 avg time between rec tnx                         0\n",
       " ERC20 avg time between rec 2 tnx                       0\n",
       " ERC20 avg time between contract tnx                    0\n",
       " ERC20 min val rec                                      0\n",
       " ERC20 max val rec                                      0\n",
       " ERC20 avg val rec                                      0\n",
       " ERC20 min val sent                                     0\n",
       " ERC20 max val sent                                     0\n",
       " ERC20 avg val sent                                     0\n",
       " ERC20 min val sent contract                            0\n",
       " ERC20 max val sent contract                            0\n",
       " ERC20 avg val sent contract                            0\n",
       " ERC20 uniq sent token name                             0\n",
       " ERC20 uniq rec token name                              0\n",
       "dtype: int64"
      ]
     },
     "execution_count": 9,
     "metadata": {},
     "output_type": "execute_result"
    }
   ],
   "source": [
    "legit.isnull().sum()"
   ]
  },
  {
   "cell_type": "code",
   "execution_count": 10,
   "id": "5a7a0592",
   "metadata": {},
   "outputs": [
    {
     "data": {
      "text/plain": [
       "Unnamed: 0                                                0\n",
       "Index                                                     0\n",
       "FLAG                                                      0\n",
       "Avg min between sent tnx                                  0\n",
       "Avg min between received tnx                              0\n",
       "Time Diff between first and last (Mins)                   0\n",
       "Sent tnx                                                  0\n",
       "Received Tnx                                              0\n",
       "Number of Created Contracts                               0\n",
       "Unique Received From Addresses                            0\n",
       "Unique Sent To Addresses                                  0\n",
       "min value received                                        0\n",
       "max value received                                        0\n",
       "avg val received                                          0\n",
       "min val sent                                              0\n",
       "max val sent                                              0\n",
       "avg val sent                                              0\n",
       "min value sent to contract                                0\n",
       "max val sent to contract                                  0\n",
       "avg value sent to contract                                0\n",
       "total transactions (including tnx to create contract      0\n",
       "total Ether sent                                          0\n",
       "total ether received                                      0\n",
       "total ether sent contracts                                0\n",
       "total ether balance                                       0\n",
       " Total ERC20 tnxs                                       829\n",
       " ERC20 total Ether received                             829\n",
       " ERC20 total ether sent                                 829\n",
       " ERC20 total Ether sent contract                        829\n",
       " ERC20 uniq sent addr                                   829\n",
       " ERC20 uniq rec addr                                    829\n",
       " ERC20 uniq sent addr.1                                 829\n",
       " ERC20 uniq rec contract addr                           829\n",
       " ERC20 avg time between sent tnx                        829\n",
       " ERC20 avg time between rec tnx                         829\n",
       " ERC20 avg time between rec 2 tnx                       829\n",
       " ERC20 avg time between contract tnx                    829\n",
       " ERC20 min val rec                                      829\n",
       " ERC20 max val rec                                      829\n",
       " ERC20 avg val rec                                      829\n",
       " ERC20 min val sent                                     829\n",
       " ERC20 max val sent                                     829\n",
       " ERC20 avg val sent                                     829\n",
       " ERC20 min val sent contract                            829\n",
       " ERC20 max val sent contract                            829\n",
       " ERC20 avg val sent contract                            829\n",
       " ERC20 uniq sent token name                             829\n",
       " ERC20 uniq rec token name                              829\n",
       "dtype: int64"
      ]
     },
     "execution_count": 10,
     "metadata": {},
     "output_type": "execute_result"
    }
   ],
   "source": [
    "fraud.isnull().sum()"
   ]
  },
  {
   "cell_type": "code",
   "execution_count": 11,
   "id": "6644d04d",
   "metadata": {},
   "outputs": [],
   "source": [
    "fraud=fraud.fillna(fraud.mean())"
   ]
  },
  {
   "cell_type": "code",
   "execution_count": 12,
   "id": "061e5204",
   "metadata": {},
   "outputs": [],
   "source": [
    "data_set=pd.concat([legit,fraud],axis=0)"
   ]
  },
  {
   "cell_type": "code",
   "execution_count": 13,
   "id": "1bfbe42d",
   "metadata": {},
   "outputs": [
    {
     "data": {
      "text/plain": [
       "Unnamed: 0                                              0\n",
       "Index                                                   0\n",
       "FLAG                                                    0\n",
       "Avg min between sent tnx                                0\n",
       "Avg min between received tnx                            0\n",
       "Time Diff between first and last (Mins)                 0\n",
       "Sent tnx                                                0\n",
       "Received Tnx                                            0\n",
       "Number of Created Contracts                             0\n",
       "Unique Received From Addresses                          0\n",
       "Unique Sent To Addresses                                0\n",
       "min value received                                      0\n",
       "max value received                                      0\n",
       "avg val received                                        0\n",
       "min val sent                                            0\n",
       "max val sent                                            0\n",
       "avg val sent                                            0\n",
       "min value sent to contract                              0\n",
       "max val sent to contract                                0\n",
       "avg value sent to contract                              0\n",
       "total transactions (including tnx to create contract    0\n",
       "total Ether sent                                        0\n",
       "total ether received                                    0\n",
       "total ether sent contracts                              0\n",
       "total ether balance                                     0\n",
       " Total ERC20 tnxs                                       0\n",
       " ERC20 total Ether received                             0\n",
       " ERC20 total ether sent                                 0\n",
       " ERC20 total Ether sent contract                        0\n",
       " ERC20 uniq sent addr                                   0\n",
       " ERC20 uniq rec addr                                    0\n",
       " ERC20 uniq sent addr.1                                 0\n",
       " ERC20 uniq rec contract addr                           0\n",
       " ERC20 avg time between sent tnx                        0\n",
       " ERC20 avg time between rec tnx                         0\n",
       " ERC20 avg time between rec 2 tnx                       0\n",
       " ERC20 avg time between contract tnx                    0\n",
       " ERC20 min val rec                                      0\n",
       " ERC20 max val rec                                      0\n",
       " ERC20 avg val rec                                      0\n",
       " ERC20 min val sent                                     0\n",
       " ERC20 max val sent                                     0\n",
       " ERC20 avg val sent                                     0\n",
       " ERC20 min val sent contract                            0\n",
       " ERC20 max val sent contract                            0\n",
       " ERC20 avg val sent contract                            0\n",
       " ERC20 uniq sent token name                             0\n",
       " ERC20 uniq rec token name                              0\n",
       "dtype: int64"
      ]
     },
     "execution_count": 13,
     "metadata": {},
     "output_type": "execute_result"
    }
   ],
   "source": [
    "data_set.isnull().sum()"
   ]
  },
  {
   "cell_type": "code",
   "execution_count": 14,
   "id": "6d938a5b",
   "metadata": {},
   "outputs": [
    {
     "data": {
      "text/plain": [
       "(9841, 48)"
      ]
     },
     "execution_count": 14,
     "metadata": {},
     "output_type": "execute_result"
    }
   ],
   "source": [
    "data_set.shape\n"
   ]
  },
  {
   "cell_type": "code",
   "execution_count": 15,
   "id": "8b29ae99",
   "metadata": {},
   "outputs": [],
   "source": [
    "X=data_set.drop(columns='FLAG',axis=1)\n",
    "Y=data_set[('FLAG')]"
   ]
  },
  {
   "cell_type": "code",
   "execution_count": 16,
   "id": "ca1008f9",
   "metadata": {},
   "outputs": [],
   "source": [
    "X.shape\n",
    "X=X.drop(columns='Index',axis=1)"
   ]
  },
  {
   "cell_type": "code",
   "execution_count": 17,
   "id": "bb7ae328",
   "metadata": {},
   "outputs": [],
   "source": [
    "Y.shape\n",
    "Y=Y.drop(columns='Index',axis=1)"
   ]
  },
  {
   "cell_type": "code",
   "execution_count": 18,
   "id": "d14122dd",
   "metadata": {},
   "outputs": [],
   "source": [
    "X_train, X_test, Y_train, Y_test = train_test_split(X, Y, test_size=0.3, stratify=Y, random_state=42)"
   ]
  },
  {
   "cell_type": "code",
   "execution_count": 19,
   "id": "4f201fde",
   "metadata": {},
   "outputs": [
    {
     "data": {
      "text/plain": [
       "(6888, 46)"
      ]
     },
     "execution_count": 19,
     "metadata": {},
     "output_type": "execute_result"
    }
   ],
   "source": [
    "X_train.shape\n"
   ]
  },
  {
   "cell_type": "code",
   "execution_count": 20,
   "id": "548ff16a",
   "metadata": {},
   "outputs": [
    {
     "data": {
      "text/plain": [
       "(2953, 46)"
      ]
     },
     "execution_count": 20,
     "metadata": {},
     "output_type": "execute_result"
    }
   ],
   "source": [
    "X_test.shape"
   ]
  },
  {
   "cell_type": "code",
   "execution_count": 21,
   "id": "2a0db082",
   "metadata": {},
   "outputs": [
    {
     "data": {
      "text/plain": [
       "(6888,)"
      ]
     },
     "execution_count": 21,
     "metadata": {},
     "output_type": "execute_result"
    }
   ],
   "source": [
    "Y_train.shape"
   ]
  },
  {
   "cell_type": "code",
   "execution_count": 22,
   "id": "0396b593",
   "metadata": {},
   "outputs": [
    {
     "data": {
      "text/plain": [
       "(2953,)"
      ]
     },
     "execution_count": 22,
     "metadata": {},
     "output_type": "execute_result"
    }
   ],
   "source": [
    "Y_test.shape"
   ]
  },
  {
   "cell_type": "code",
   "execution_count": 23,
   "id": "de99ca6f",
   "metadata": {},
   "outputs": [],
   "source": [
    "sc=StandardScaler()\n",
    "x_train_scaled=sc.fit_transform(X_train)\n",
    "x_test_scaled=sc.fit_transform(X_test)"
   ]
  },
  {
   "cell_type": "code",
   "execution_count": 24,
   "id": "6d3f1304",
   "metadata": {},
   "outputs": [],
   "source": [
    "model = LogisticRegression()"
   ]
  },
  {
   "cell_type": "code",
   "execution_count": 25,
   "id": "9c27d8d2",
   "metadata": {},
   "outputs": [
    {
     "data": {
      "text/html": [
       "<style>#sk-container-id-1 {color: black;background-color: white;}#sk-container-id-1 pre{padding: 0;}#sk-container-id-1 div.sk-toggleable {background-color: white;}#sk-container-id-1 label.sk-toggleable__label {cursor: pointer;display: block;width: 100%;margin-bottom: 0;padding: 0.3em;box-sizing: border-box;text-align: center;}#sk-container-id-1 label.sk-toggleable__label-arrow:before {content: \"▸\";float: left;margin-right: 0.25em;color: #696969;}#sk-container-id-1 label.sk-toggleable__label-arrow:hover:before {color: black;}#sk-container-id-1 div.sk-estimator:hover label.sk-toggleable__label-arrow:before {color: black;}#sk-container-id-1 div.sk-toggleable__content {max-height: 0;max-width: 0;overflow: hidden;text-align: left;background-color: #f0f8ff;}#sk-container-id-1 div.sk-toggleable__content pre {margin: 0.2em;color: black;border-radius: 0.25em;background-color: #f0f8ff;}#sk-container-id-1 input.sk-toggleable__control:checked~div.sk-toggleable__content {max-height: 200px;max-width: 100%;overflow: auto;}#sk-container-id-1 input.sk-toggleable__control:checked~label.sk-toggleable__label-arrow:before {content: \"▾\";}#sk-container-id-1 div.sk-estimator input.sk-toggleable__control:checked~label.sk-toggleable__label {background-color: #d4ebff;}#sk-container-id-1 div.sk-label input.sk-toggleable__control:checked~label.sk-toggleable__label {background-color: #d4ebff;}#sk-container-id-1 input.sk-hidden--visually {border: 0;clip: rect(1px 1px 1px 1px);clip: rect(1px, 1px, 1px, 1px);height: 1px;margin: -1px;overflow: hidden;padding: 0;position: absolute;width: 1px;}#sk-container-id-1 div.sk-estimator {font-family: monospace;background-color: #f0f8ff;border: 1px dotted black;border-radius: 0.25em;box-sizing: border-box;margin-bottom: 0.5em;}#sk-container-id-1 div.sk-estimator:hover {background-color: #d4ebff;}#sk-container-id-1 div.sk-parallel-item::after {content: \"\";width: 100%;border-bottom: 1px solid gray;flex-grow: 1;}#sk-container-id-1 div.sk-label:hover label.sk-toggleable__label {background-color: #d4ebff;}#sk-container-id-1 div.sk-serial::before {content: \"\";position: absolute;border-left: 1px solid gray;box-sizing: border-box;top: 0;bottom: 0;left: 50%;z-index: 0;}#sk-container-id-1 div.sk-serial {display: flex;flex-direction: column;align-items: center;background-color: white;padding-right: 0.2em;padding-left: 0.2em;position: relative;}#sk-container-id-1 div.sk-item {position: relative;z-index: 1;}#sk-container-id-1 div.sk-parallel {display: flex;align-items: stretch;justify-content: center;background-color: white;position: relative;}#sk-container-id-1 div.sk-item::before, #sk-container-id-1 div.sk-parallel-item::before {content: \"\";position: absolute;border-left: 1px solid gray;box-sizing: border-box;top: 0;bottom: 0;left: 50%;z-index: -1;}#sk-container-id-1 div.sk-parallel-item {display: flex;flex-direction: column;z-index: 1;position: relative;background-color: white;}#sk-container-id-1 div.sk-parallel-item:first-child::after {align-self: flex-end;width: 50%;}#sk-container-id-1 div.sk-parallel-item:last-child::after {align-self: flex-start;width: 50%;}#sk-container-id-1 div.sk-parallel-item:only-child::after {width: 0;}#sk-container-id-1 div.sk-dashed-wrapped {border: 1px dashed gray;margin: 0 0.4em 0.5em 0.4em;box-sizing: border-box;padding-bottom: 0.4em;background-color: white;}#sk-container-id-1 div.sk-label label {font-family: monospace;font-weight: bold;display: inline-block;line-height: 1.2em;}#sk-container-id-1 div.sk-label-container {text-align: center;}#sk-container-id-1 div.sk-container {/* jupyter's `normalize.less` sets `[hidden] { display: none; }` but bootstrap.min.css set `[hidden] { display: none !important; }` so we also need the `!important` here to be able to override the default hidden behavior on the sphinx rendered scikit-learn.org. See: https://github.com/scikit-learn/scikit-learn/issues/21755 */display: inline-block !important;position: relative;}#sk-container-id-1 div.sk-text-repr-fallback {display: none;}</style><div id=\"sk-container-id-1\" class=\"sk-top-container\"><div class=\"sk-text-repr-fallback\"><pre>LogisticRegression()</pre><b>In a Jupyter environment, please rerun this cell to show the HTML representation or trust the notebook. <br />On GitHub, the HTML representation is unable to render, please try loading this page with nbviewer.org.</b></div><div class=\"sk-container\" hidden><div class=\"sk-item\"><div class=\"sk-estimator sk-toggleable\"><input class=\"sk-toggleable__control sk-hidden--visually\" id=\"sk-estimator-id-1\" type=\"checkbox\" checked><label for=\"sk-estimator-id-1\" class=\"sk-toggleable__label sk-toggleable__label-arrow\">LogisticRegression</label><div class=\"sk-toggleable__content\"><pre>LogisticRegression()</pre></div></div></div></div></div>"
      ],
      "text/plain": [
       "LogisticRegression()"
      ]
     },
     "execution_count": 25,
     "metadata": {},
     "output_type": "execute_result"
    }
   ],
   "source": [
    "model.fit(x_train_scaled,Y_train)"
   ]
  },
  {
   "cell_type": "code",
   "execution_count": 26,
   "id": "63912a35",
   "metadata": {},
   "outputs": [],
   "source": [
    "X_train_prediction = model.predict(x_test_scaled)\n",
    "training_data_accuracy = accuracy_score(X_train_prediction, Y_test)"
   ]
  },
  {
   "cell_type": "code",
   "execution_count": 27,
   "id": "9af512a0",
   "metadata": {},
   "outputs": [
    {
     "name": "stdout",
     "output_type": "stream",
     "text": [
      "Accuracy on Training data :  0.9837453437182526\n"
     ]
    }
   ],
   "source": [
    "print('Accuracy on Training data : ', training_data_accuracy)"
   ]
  },
  {
   "cell_type": "code",
   "execution_count": null,
   "id": "8fdc912d",
   "metadata": {},
   "outputs": [],
   "source": []
  }
 ],
 "metadata": {
  "kernelspec": {
   "display_name": "Python 3 (ipykernel)",
   "language": "python",
   "name": "python3"
  },
  "language_info": {
   "codemirror_mode": {
    "name": "ipython",
    "version": 3
   },
   "file_extension": ".py",
   "mimetype": "text/x-python",
   "name": "python",
   "nbconvert_exporter": "python",
   "pygments_lexer": "ipython3",
   "version": "3.10.6"
  }
 },
 "nbformat": 4,
 "nbformat_minor": 5
}
